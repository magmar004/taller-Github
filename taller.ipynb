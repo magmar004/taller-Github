{
 "cells": [
  {
   "attachments": {},
   "cell_type": "markdown",
   "metadata": {},
   "source": [
    "# Instalar Git🙂\n",
    "\n",
    "windows\n",
    "- winget install git.git\n",
    "\n",
    "linux/mac\n",
    "- $ sudo apt install git-all\n",
    "\n",
    "https://git-scm.com/download/win"
   ]
  }
 ],
 "metadata": {
  "language_info": {
   "name": "python"
  },
  "orig_nbformat": 4
 },
 "nbformat": 4,
 "nbformat_minor": 2
}
